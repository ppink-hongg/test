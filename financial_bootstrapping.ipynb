{
 "cells": [
  {
   "cell_type": "markdown",
   "metadata": {},
   "source": [
    "## 1. Data"
   ]
  },
  {
   "cell_type": "code",
   "execution_count": 1,
   "metadata": {},
   "outputs": [
    {
     "name": "stdout",
     "output_type": "stream",
     "text": [
      "# packages in environment at C:\\Users\\ppink_hongg\\anaconda3:\n",
      "#\n",
      "# Name                    Version                   Build  Channel\n",
      "_ipyw_jlab_nb_ext_conf    0.1.0                    py38_0  \n",
      "alabaster                 0.7.12                     py_0  \n",
      "anaconda                  2020.11                  py38_0  \n",
      "anaconda-client           1.7.2                    py38_0  \n",
      "anaconda-navigator        1.10.0                   py38_0  \n",
      "anaconda-project          0.8.4                      py_0  \n",
      "argh                      0.26.2                   py38_0  \n",
      "argon2-cffi               20.1.0           py38he774522_1  \n",
      "asn1crypto                1.4.0                      py_0  \n",
      "astroid                   2.4.2                    py38_0  \n",
      "astropy                   4.0.2            py38he774522_0  \n",
      "async_generator           1.10                       py_0  \n",
      "atomicwrites              1.4.0                      py_0  \n",
      "attrs                     20.3.0             pyhd3eb1b0_0  \n",
      "autopep8                  1.5.4                      py_0  \n",
      "babel                     2.8.1              pyhd3eb1b0_0  \n",
      "backcall                  0.2.0                      py_0  \n",
      "backports                 1.0                        py_2  \n",
      "backports.functools_lru_cache 1.6.1                      py_0  \n",
      "backports.shutil_get_terminal_size 1.0.0                    py38_2  \n",
      "backports.tempfile        1.0                        py_1  \n",
      "backports.weakref         1.0.post1                  py_1  \n",
      "bcrypt                    3.2.0            py38he774522_0  \n",
      "beautifulsoup4            4.9.3              pyhb0f4dca_0  \n",
      "bitarray                  1.6.1            py38h2bbff1b_0  \n",
      "bkcharts                  0.2                      py38_0  \n",
      "blas                      1.0                         mkl  \n",
      "bleach                    3.2.1                      py_0  \n",
      "blosc                     1.20.1               h7bd577a_0  \n",
      "bokeh                     2.2.3                    py38_0  \n",
      "boto                      2.49.0                   py38_0  \n",
      "bottleneck                1.3.2            py38h2a96729_1  \n",
      "brotlipy                  0.7.0           py38he774522_1000  \n",
      "Note: you may need to restart the kernel to use updated packages.\n",
      "\n",
      "bzip2                     1.0.8                he774522_0  \n",
      "ca-certificates           2020.10.14                    0  \n",
      "certifi                   2020.6.20          pyhd3eb1b0_3  \n",
      "cffi                      1.14.3           py38h7a1dbc1_0  \n",
      "chardet                   3.0.4                 py38_1003  \n",
      "click                     7.1.2                      py_0  \n",
      "cloudpickle               1.6.0                      py_0  \n",
      "clyent                    1.2.2                    py38_1  \n",
      "colorama                  0.4.4                      py_0  \n",
      "comtypes                  1.1.7                 py38_1001  \n",
      "conda                     4.9.2            py38haa95532_0  \n",
      "conda-build               3.20.5                   py38_1  \n",
      "conda-env                 2.6.0                         1  \n",
      "conda-package-handling    1.7.2            py38h76e460a_0  \n",
      "conda-verify              3.4.2                      py_1  \n",
      "console_shortcut          0.1.1                         4  \n",
      "contextlib2               0.6.0.post1                py_0  \n",
      "cryptography              3.1.1            py38h7a1dbc1_0  \n",
      "curl                      7.71.1               h2a8f88b_1  \n",
      "cycler                    0.10.0                   py38_0  \n",
      "cython                    0.29.21          py38ha925a31_0  \n",
      "cytoolz                   0.11.0           py38he774522_0  \n",
      "dask                      2.30.0                     py_0  \n",
      "dask-core                 2.30.0                     py_0  \n",
      "decorator                 4.4.2                      py_0  \n",
      "defusedxml                0.6.0                      py_0  \n",
      "diff-match-patch          20200713                   py_0  \n",
      "distributed               2.30.1           py38haa95532_0  \n",
      "docutils                  0.16                     py38_1  \n",
      "entrypoints               0.3                      py38_0  \n",
      "et_xmlfile                1.0.1                   py_1001  \n",
      "fastcache                 1.1.0            py38he774522_0  \n",
      "filelock                  3.0.12                     py_0  \n",
      "flake8                    3.8.4                      py_0  \n",
      "flask                     1.1.2                      py_0  \n",
      "freetype                  2.10.4               hd328e21_0  \n",
      "fsspec                    0.8.3                      py_0  \n",
      "future                    0.18.2                   py38_1  \n",
      "get_terminal_size         1.0.0                h38e98db_0  \n",
      "gevent                    20.9.0           py38he774522_0  \n",
      "glob2                     0.7                        py_0  \n",
      "greenlet                  0.4.17           py38he774522_0  \n",
      "h5py                      2.10.0           py38h5e291fa_0  \n",
      "hdf5                      1.10.4               h7ebc959_0  \n",
      "heapdict                  1.0.1                      py_0  \n",
      "html5lib                  1.1                        py_0  \n",
      "icc_rt                    2019.0.0             h0cc432a_1  \n",
      "icu                       58.2                 ha925a31_3  \n",
      "idna                      2.10                       py_0  \n",
      "imageio                   2.9.0                      py_0  \n",
      "imagesize                 1.2.0                      py_0  \n",
      "importlib-metadata        2.0.0                      py_1  \n",
      "importlib_metadata        2.0.0                         1  \n",
      "iniconfig                 1.1.1                      py_0  \n",
      "intel-openmp              2020.2                      254  \n",
      "intervaltree              3.1.0                      py_0  \n",
      "ipykernel                 5.3.4            py38h5ca1d4c_0  \n",
      "ipython                   7.19.0           py38hd4e2768_0  \n",
      "ipython_genutils          0.2.0                    py38_0  \n",
      "ipywidgets                7.5.1                      py_1  \n",
      "isort                     5.6.4                      py_0  \n",
      "itsdangerous              1.1.0                      py_0  \n",
      "jdcal                     1.4.1                      py_0  \n",
      "jedi                      0.17.1                   py38_0  \n",
      "jinja2                    2.11.2                     py_0  \n",
      "joblib                    0.17.0                     py_0  \n",
      "jpeg                      9b                   hb83a4c4_2  \n",
      "json5                     0.9.5                      py_0  \n",
      "jsonschema                3.2.0                      py_2  \n",
      "jupyter                   1.0.0                    py38_7  \n",
      "jupyter_client            6.1.7                      py_0  \n",
      "jupyter_console           6.2.0                      py_0  \n",
      "jupyter_core              4.6.3                    py38_0  \n",
      "jupyterlab                2.2.6                      py_0  \n",
      "jupyterlab_pygments       0.1.2                      py_0  \n",
      "jupyterlab_server         1.2.0                      py_0  \n",
      "keyring                   21.4.0                   py38_1  \n",
      "kiwisolver                1.3.0            py38hd77b12b_0  \n",
      "krb5                      1.18.2               hc04afaa_0  \n",
      "lazy-object-proxy         1.4.3            py38he774522_0  \n",
      "libarchive                3.4.2                h5e25573_0  \n",
      "libcurl                   7.71.1               h2a8f88b_1  \n",
      "libiconv                  1.15                 h1df5818_7  \n",
      "liblief                   0.10.1               ha925a31_0  \n",
      "libpng                    1.6.37               h2a8f88b_0  \n",
      "libsodium                 1.0.18               h62dcd97_0  \n",
      "libspatialindex           1.9.3                h33f27b4_0  \n",
      "libssh2                   1.9.0                h7a1dbc1_1  \n",
      "libtiff                   4.1.0                h56a325e_1  \n",
      "libxml2                   2.9.10               hb89e7f3_3  \n",
      "libxslt                   1.1.34               he774522_0  \n",
      "llvmlite                  0.34.0           py38h1a82afc_4  \n",
      "locket                    0.2.0                    py38_1  \n",
      "lxml                      4.6.1            py38h1350720_0  \n",
      "lz4-c                     1.9.2                hf4a77e7_3  \n",
      "lzo                       2.10                 he774522_2  \n",
      "m2w64-gcc-libgfortran     5.3.0                         6  \n",
      "m2w64-gcc-libs            5.3.0                         7  \n",
      "m2w64-gcc-libs-core       5.3.0                         7  \n",
      "m2w64-gmp                 6.1.0                         2  \n",
      "m2w64-libwinpthread-git   5.0.0.4634.697f757               2  \n",
      "markupsafe                1.1.1            py38he774522_0  \n",
      "matplotlib                3.3.2                         0  \n",
      "matplotlib-base           3.3.2            py38hba9282a_0  \n",
      "mccabe                    0.6.1                    py38_1  \n",
      "menuinst                  1.4.16           py38he774522_1  \n",
      "mistune                   0.8.4           py38he774522_1000  \n",
      "mkl                       2020.2                      256  \n",
      "mkl-service               2.3.0            py38hb782905_0  \n",
      "mkl_fft                   1.2.0            py38h45dec08_0  \n",
      "mkl_random                1.1.1            py38h47e9c7a_0  \n",
      "mock                      4.0.2                      py_0  \n",
      "more-itertools            8.6.0              pyhd3eb1b0_0  \n",
      "mpmath                    1.1.0                    py38_0  \n",
      "msgpack-python            1.0.0            py38h74a9793_1  \n",
      "msys2-conda-epoch         20160418                      1  \n",
      "multipledispatch          0.6.0                    py38_0  \n",
      "navigator-updater         0.2.1                    py38_0  \n",
      "nbclient                  0.5.1                      py_0  \n",
      "nbconvert                 6.0.7                    py38_0  \n",
      "nbformat                  5.0.8                      py_0  \n",
      "nest-asyncio              1.4.2              pyhd3eb1b0_0  \n",
      "networkx                  2.5                        py_0  \n",
      "nltk                      3.5                        py_0  \n",
      "nose                      1.3.7                    py38_2  \n",
      "notebook                  6.1.4                    py38_0  \n",
      "numba                     0.51.2           py38hf9181ef_1  \n",
      "numexpr                   2.7.1            py38h25d0782_0  \n",
      "numpy                     1.19.2           py38hadc3359_0  \n",
      "numpy-base                1.19.2           py38ha3acd2a_0  \n",
      "numpydoc                  1.1.0              pyhd3eb1b0_1  \n",
      "olefile                   0.46                       py_0  \n",
      "openpyxl                  3.0.5                      py_0  \n",
      "openssl                   1.1.1h               he774522_0  \n",
      "packaging                 20.4                       py_0  \n",
      "pandas                    1.1.3            py38ha925a31_0  \n",
      "pandas-datareader         0.9.0                      py_0  \n",
      "pandoc                    2.11                 h9490d1a_0  \n",
      "pandocfilters             1.4.3            py38haa95532_1  \n",
      "paramiko                  2.7.2                      py_0  \n",
      "parso                     0.7.0                      py_0  \n",
      "partd                     1.1.0                      py_0  \n",
      "path                      15.0.0                   py38_0  \n",
      "path.py                   12.5.0                        0  \n",
      "pathlib2                  2.3.5                    py38_0  \n",
      "pathtools                 0.1.2                      py_1  \n",
      "patsy                     0.5.1                    py38_0  \n",
      "pep8                      1.7.1                    py38_0  \n",
      "pexpect                   4.8.0                    py38_0  \n",
      "pickleshare               0.7.5                 py38_1000  \n",
      "pillow                    8.0.1            py38h4fa10fc_0  \n",
      "pip                       20.2.4           py38haa95532_0  \n",
      "pkginfo                   1.6.1            py38haa95532_0  \n",
      "pluggy                    0.13.1                   py38_0  \n",
      "ply                       3.11                     py38_0  \n",
      "powershell_shortcut       0.0.1                         3  \n",
      "prometheus_client         0.8.0                      py_0  \n",
      "prompt-toolkit            3.0.8                      py_0  \n",
      "prompt_toolkit            3.0.8                         0  \n",
      "psutil                    5.7.2            py38he774522_0  \n",
      "py                        1.9.0                      py_0  \n",
      "py-lief                   0.10.1           py38ha925a31_0  \n",
      "pycodestyle               2.6.0                      py_0  \n",
      "pycosat                   0.6.3            py38he774522_0  \n",
      "pycparser                 2.20                       py_2  \n",
      "pycurl                    7.43.0.6         py38h7a1dbc1_0  \n",
      "pydocstyle                5.1.1                      py_0  \n",
      "pyflakes                  2.2.0                      py_0  \n",
      "pygments                  2.7.2              pyhd3eb1b0_0  \n",
      "pylint                    2.6.0                    py38_0  \n",
      "pynacl                    1.4.0            py38h62dcd97_1  \n",
      "pyodbc                    4.0.30           py38ha925a31_0  \n",
      "pyopenssl                 19.1.0                     py_1  \n",
      "pyparsing                 2.4.7                      py_0  \n",
      "pyqt                      5.9.2            py38ha925a31_4  \n",
      "pyreadline                2.1                      py38_1  \n",
      "pyrsistent                0.17.3           py38he774522_0  \n",
      "pysocks                   1.7.1                    py38_0  \n",
      "pytables                  3.6.1            py38ha5be198_0  \n",
      "pytest                    6.1.1                    py38_0  \n",
      "python                    3.8.5                h5fd99cc_1  \n",
      "python-dateutil           2.8.1                      py_0  \n",
      "python-jsonrpc-server     0.4.0                      py_0  \n",
      "python-language-server    0.35.1                     py_0  \n",
      "python-libarchive-c       2.9                        py_0  \n",
      "pytz                      2020.1                     py_0  \n",
      "pywavelets                1.1.1            py38he774522_2  \n",
      "pywin32                   227              py38he774522_1  \n",
      "pywin32-ctypes            0.2.0                 py38_1000  \n",
      "pywinpty                  0.5.7                    py38_0  \n",
      "pyyaml                    5.3.1            py38he774522_1  \n",
      "pyzmq                     19.0.2           py38ha925a31_1  \n",
      "qdarkstyle                2.8.1                      py_0  \n",
      "qt                        5.9.7            vc14h73c81de_0  \n",
      "qtawesome                 1.0.1                      py_0  \n",
      "qtconsole                 4.7.7                      py_0  \n",
      "qtpy                      1.9.0                      py_0  \n",
      "regex                     2020.10.15       py38he774522_0  \n",
      "requests                  2.24.0                     py_0  \n",
      "rope                      0.18.0                     py_0  \n",
      "rtree                     0.9.4            py38h21ff451_1  \n",
      "ruamel_yaml               0.15.87          py38he774522_1  \n",
      "scikit-image              0.17.2           py38h1e1f486_0  \n",
      "scikit-learn              0.23.2           py38h47e9c7a_0  \n",
      "scipy                     1.5.2            py38h14eb087_0  \n",
      "seaborn                   0.11.0                     py_0  \n",
      "send2trash                1.5.0                    py38_0  \n",
      "setuptools                50.3.1           py38haa95532_1  \n",
      "simplegeneric             0.8.1                    py38_2  \n",
      "singledispatch            3.4.0.3                 py_1001  \n",
      "sip                       4.19.13          py38ha925a31_0  \n",
      "six                       1.15.0           py38haa95532_0  \n",
      "snowballstemmer           2.0.0                      py_0  \n",
      "sortedcollections         1.2.1                      py_0  \n",
      "sortedcontainers          2.2.2                      py_0  \n",
      "soupsieve                 2.0.1                      py_0  \n",
      "sphinx                    3.2.1                      py_0  \n",
      "sphinxcontrib             1.0                      py38_1  \n",
      "sphinxcontrib-applehelp   1.0.2                      py_0  \n",
      "sphinxcontrib-devhelp     1.0.2                      py_0  \n",
      "sphinxcontrib-htmlhelp    1.0.3                      py_0  \n",
      "sphinxcontrib-jsmath      1.0.1                      py_0  \n",
      "sphinxcontrib-qthelp      1.0.3                      py_0  \n",
      "sphinxcontrib-serializinghtml 1.1.4                      py_0  \n",
      "sphinxcontrib-websupport  1.2.4                      py_0  \n",
      "spyder                    4.1.5                    py38_0  \n",
      "spyder-kernels            1.9.4                    py38_0  \n",
      "sqlalchemy                1.3.20           py38h2bbff1b_0  \n",
      "sqlite                    3.33.0               h2a8f88b_0  \n",
      "statsmodels               0.12.0           py38he774522_0  \n",
      "sympy                     1.6.2            py38haa95532_1  \n",
      "tblib                     1.7.0                      py_0  \n",
      "terminado                 0.9.1                    py38_0  \n",
      "testpath                  0.4.4                      py_0  \n",
      "threadpoolctl             2.1.0              pyh5ca1d4c_0  \n",
      "tifffile                  2020.10.1        py38h8c2d366_2  \n",
      "tk                        8.6.10               he774522_0  \n",
      "toml                      0.10.1                     py_0  \n",
      "toolz                     0.11.1                     py_0  \n",
      "tornado                   6.0.4            py38he774522_1  \n",
      "tqdm                      4.50.2                     py_0  \n",
      "traitlets                 5.0.5                      py_0  \n",
      "typing_extensions         3.7.4.3                    py_0  \n",
      "ujson                     4.0.1            py38ha925a31_0  \n",
      "unicodecsv                0.14.1                   py38_0  \n",
      "urllib3                   1.25.11                    py_0  \n",
      "vc                        14.1                 h0510ff6_4  \n",
      "vs2015_runtime            14.16.27012          hf0eaf9b_3  \n",
      "watchdog                  0.10.3                   py38_0  \n",
      "wcwidth                   0.2.5                      py_0  \n",
      "webencodings              0.5.1                    py38_1  \n",
      "werkzeug                  1.0.1                      py_0  \n",
      "wheel                     0.35.1                     py_0  \n",
      "widgetsnbextension        3.5.1                    py38_0  \n",
      "win_inet_pton             1.1.0                    py38_0  \n",
      "win_unicode_console       0.5                      py38_0  \n",
      "wincertstore              0.2                      py38_0  \n",
      "winpty                    0.4.3                         4  \n",
      "wrapt                     1.11.2           py38he774522_0  \n",
      "xlrd                      1.2.0                      py_0  \n",
      "xlsxwriter                1.3.7                      py_0  \n",
      "xlwings                   0.20.8                   py38_0  \n",
      "xlwt                      1.3.0                    py38_0  \n",
      "xmltodict                 0.12.0                     py_0  \n",
      "xz                        5.2.5                h62dcd97_0  \n",
      "yaml                      0.2.5                he774522_0  \n",
      "yapf                      0.30.0                     py_0  \n",
      "zeromq                    4.3.2                ha925a31_3  \n",
      "zict                      2.0.0                      py_0  \n",
      "zipp                      3.4.0              pyhd3eb1b0_0  \n",
      "zlib                      1.2.11               h62dcd97_4  \n",
      "zope                      1.0                      py38_1  \n",
      "zope.event                4.5.0                    py38_0  \n",
      "zope.interface            5.1.2            py38he774522_0  \n",
      "zstd                      1.4.5                h04227a9_0  \n"
     ]
    }
   ],
   "source": [
    "# conda list"
   ]
  },
  {
   "cell_type": "code",
   "execution_count": 27,
   "metadata": {
    "scrolled": true
   },
   "outputs": [
    {
     "name": "stdout",
     "output_type": "stream",
     "text": [
      "Collecting package metadata (current_repodata.json): ...working... done\n",
      "Note: you may need to restart the kernel to use updated packages.\n",
      "Solving environment: ...working... done\n",
      "\n",
      "# All requested packages already installed.\n",
      "\n",
      "\n"
     ]
    }
   ],
   "source": [
    "# conda install pandas-datareader"
   ]
  },
  {
   "cell_type": "code",
   "execution_count": 28,
   "metadata": {},
   "outputs": [],
   "source": [
    "import pandas as pd\n",
    "import pandas_datareader as pdr\n",
    "from datetime import datetime"
   ]
  },
  {
   "cell_type": "code",
   "execution_count": 29,
   "metadata": {},
   "outputs": [],
   "source": [
    "start = datetime(2019, 1, 2) # start = '2019-01-02'\n",
    "end = datetime(2020, 12, 30) # end = '2020-12-30'\n",
    "\n",
    "# 삼성전자: 005930.KS\n",
    "df = pdr.DataReader('005930.KS', 'yahoo', start, end) \n",
    "# df = pdr.get_data_yahoo('005930.KS', start, end)\n",
    "\n",
    "# 컬럼명 변경\n",
    "# df.columns = ['h', 'l', 'o', 'c', 'v', 'adjc']"
   ]
  },
  {
   "cell_type": "code",
   "execution_count": 30,
   "metadata": {
    "scrolled": true
   },
   "outputs": [
    {
     "data": {
      "text/html": [
       "<div>\n",
       "<style scoped>\n",
       "    .dataframe tbody tr th:only-of-type {\n",
       "        vertical-align: middle;\n",
       "    }\n",
       "\n",
       "    .dataframe tbody tr th {\n",
       "        vertical-align: top;\n",
       "    }\n",
       "\n",
       "    .dataframe thead th {\n",
       "        text-align: right;\n",
       "    }\n",
       "</style>\n",
       "<table border=\"1\" class=\"dataframe\">\n",
       "  <thead>\n",
       "    <tr style=\"text-align: right;\">\n",
       "      <th></th>\n",
       "      <th>High</th>\n",
       "      <th>Low</th>\n",
       "      <th>Open</th>\n",
       "      <th>Close</th>\n",
       "      <th>Volume</th>\n",
       "      <th>Adj Close</th>\n",
       "    </tr>\n",
       "    <tr>\n",
       "      <th>Date</th>\n",
       "      <th></th>\n",
       "      <th></th>\n",
       "      <th></th>\n",
       "      <th></th>\n",
       "      <th></th>\n",
       "      <th></th>\n",
       "    </tr>\n",
       "  </thead>\n",
       "  <tbody>\n",
       "    <tr>\n",
       "      <th>2019-01-02</th>\n",
       "      <td>39400.0</td>\n",
       "      <td>38550.0</td>\n",
       "      <td>39400.0</td>\n",
       "      <td>38750.0</td>\n",
       "      <td>7847664.0</td>\n",
       "      <td>36882.367188</td>\n",
       "    </tr>\n",
       "    <tr>\n",
       "      <th>2019-01-03</th>\n",
       "      <td>38550.0</td>\n",
       "      <td>37450.0</td>\n",
       "      <td>38300.0</td>\n",
       "      <td>37600.0</td>\n",
       "      <td>12471493.0</td>\n",
       "      <td>35787.796875</td>\n",
       "    </tr>\n",
       "    <tr>\n",
       "      <th>2019-01-04</th>\n",
       "      <td>37600.0</td>\n",
       "      <td>36850.0</td>\n",
       "      <td>37450.0</td>\n",
       "      <td>37450.0</td>\n",
       "      <td>14108958.0</td>\n",
       "      <td>35645.027344</td>\n",
       "    </tr>\n",
       "    <tr>\n",
       "      <th>2019-01-07</th>\n",
       "      <td>38900.0</td>\n",
       "      <td>37800.0</td>\n",
       "      <td>38000.0</td>\n",
       "      <td>38750.0</td>\n",
       "      <td>12748997.0</td>\n",
       "      <td>36882.367188</td>\n",
       "    </tr>\n",
       "    <tr>\n",
       "      <th>2019-01-08</th>\n",
       "      <td>39200.0</td>\n",
       "      <td>37950.0</td>\n",
       "      <td>38000.0</td>\n",
       "      <td>38100.0</td>\n",
       "      <td>12756554.0</td>\n",
       "      <td>36263.699219</td>\n",
       "    </tr>\n",
       "  </tbody>\n",
       "</table>\n",
       "</div>"
      ],
      "text/plain": [
       "               High      Low     Open    Close      Volume     Adj Close\n",
       "Date                                                                    \n",
       "2019-01-02  39400.0  38550.0  39400.0  38750.0   7847664.0  36882.367188\n",
       "2019-01-03  38550.0  37450.0  38300.0  37600.0  12471493.0  35787.796875\n",
       "2019-01-04  37600.0  36850.0  37450.0  37450.0  14108958.0  35645.027344\n",
       "2019-01-07  38900.0  37800.0  38000.0  38750.0  12748997.0  36882.367188\n",
       "2019-01-08  39200.0  37950.0  38000.0  38100.0  12756554.0  36263.699219"
      ]
     },
     "execution_count": 30,
     "metadata": {},
     "output_type": "execute_result"
    }
   ],
   "source": [
    "df.head()"
   ]
  },
  {
   "cell_type": "code",
   "execution_count": 31,
   "metadata": {},
   "outputs": [
    {
     "name": "stdout",
     "output_type": "stream",
     "text": [
      "<class 'pandas.core.frame.DataFrame'>\n",
      "DatetimeIndex: 493 entries, 2019-01-02 to 2020-12-30\n",
      "Data columns (total 6 columns):\n",
      " #   Column     Non-Null Count  Dtype  \n",
      "---  ------     --------------  -----  \n",
      " 0   High       493 non-null    float64\n",
      " 1   Low        493 non-null    float64\n",
      " 2   Open       493 non-null    float64\n",
      " 3   Close      493 non-null    float64\n",
      " 4   Volume     493 non-null    float64\n",
      " 5   Adj Close  493 non-null    float64\n",
      "dtypes: float64(6)\n",
      "memory usage: 27.0 KB\n"
     ]
    }
   ],
   "source": [
    "df.info()"
   ]
  },
  {
   "cell_type": "code",
   "execution_count": 32,
   "metadata": {},
   "outputs": [
    {
     "data": {
      "text/plain": [
       "(493, 6)"
      ]
     },
     "execution_count": 32,
     "metadata": {},
     "output_type": "execute_result"
    }
   ],
   "source": [
    "df.shape"
   ]
  },
  {
   "cell_type": "code",
   "execution_count": 33,
   "metadata": {},
   "outputs": [
    {
     "data": {
      "text/plain": [
       "Date\n",
       "2019-01-02    38750.0\n",
       "2019-01-03    37600.0\n",
       "2019-01-04    37450.0\n",
       "2019-01-07    38750.0\n",
       "2019-01-08    38100.0\n",
       "               ...   \n",
       "2020-12-23    73900.0\n",
       "2020-12-24    77800.0\n",
       "2020-12-28    78700.0\n",
       "2020-12-29    78300.0\n",
       "2020-12-30    81000.0\n",
       "Name: Close, Length: 493, dtype: float64"
      ]
     },
     "execution_count": 33,
     "metadata": {},
     "output_type": "execute_result"
    }
   ],
   "source": [
    "df['Close']\n",
    "# df['Close'][0]"
   ]
  },
  {
   "cell_type": "code",
   "execution_count": 34,
   "metadata": {},
   "outputs": [
    {
     "data": {
      "text/plain": [
       "<AxesSubplot:xlabel='Date'>"
      ]
     },
     "execution_count": 34,
     "metadata": {},
     "output_type": "execute_result"
    },
    {
     "data": {
      "image/png": "[encoded data removed]",
      "text/plain": [
       "<Figure size 432x288 with 1 Axes>"
      ]
     },
     "metadata": {
      "needs_background": "light"
     },
     "output_type": "display_data"
    }
   ],
   "source": [
    "df['Close'].plot()"
   ]
  },
  {
   "cell_type": "code",
   "execution_count": 35,
   "metadata": {},
   "outputs": [
    {
     "data": {
      "text/plain": [
       "Date\n",
       "2019-01-02    38750.0\n",
       "2019-01-03    37600.0\n",
       "2019-01-04    37450.0\n",
       "2019-01-07    38750.0\n",
       "2019-01-08    38100.0\n",
       "               ...   \n",
       "2020-12-23    73900.0\n",
       "2020-12-24    77800.0\n",
       "2020-12-28    78700.0\n",
       "2020-12-29    78300.0\n",
       "2020-12-30    81000.0\n",
       "Name: Close, Length: 493, dtype: float64"
      ]
     },
     "execution_count": 35,
     "metadata": {},
     "output_type": "execute_result"
    }
   ],
   "source": [
    "df_close = df.iloc[:,3]; df_close"
   ]
  },
  {
   "cell_type": "markdown",
   "metadata": {},
   "source": [
    "## 2. 수익률 계산"
   ]
  },
  {
   "cell_type": "code",
   "execution_count": 36,
   "metadata": {},
   "outputs": [],
   "source": [
    "import numpy as np\n",
    "import math"
   ]
  },
  {
   "cell_type": "code",
   "execution_count": 37,
   "metadata": {},
   "outputs": [],
   "source": [
    "zerosv1 =np.zeros(493)\n",
    "zerosv1[0] = 'NaN'\n",
    "# type(zerosv)"
   ]
  },
  {
   "cell_type": "code",
   "execution_count": 38,
   "metadata": {},
   "outputs": [],
   "source": [
    "for i in range(1, 493):\n",
    "    zerosv1[i] = round((df['Close'][i] - df['Close'][i-1]) / df['Close'][i-1] * 100, 4)\n",
    "\n",
    "# zerosv1\n",
    "# np.diff"
   ]
  },
  {
   "cell_type": "code",
   "execution_count": 39,
   "metadata": {},
   "outputs": [],
   "source": [
    "# 열 생성\n",
    "df['rate_return'] = zerosv1\n",
    "\n",
    "# 열 삭제\n",
    "# del df['rate_return']"
   ]
  },
  {
   "cell_type": "code",
   "execution_count": 40,
   "metadata": {},
   "outputs": [
    {
     "data": {
      "text/html": [
       "<div>\n",
       "<style scoped>\n",
       "    .dataframe tbody tr th:only-of-type {\n",
       "        vertical-align: middle;\n",
       "    }\n",
       "\n",
       "    .dataframe tbody tr th {\n",
       "        vertical-align: top;\n",
       "    }\n",
       "\n",
       "    .dataframe thead th {\n",
       "        text-align: right;\n",
       "    }\n",
       "</style>\n",
       "<table border=\"1\" class=\"dataframe\">\n",
       "  <thead>\n",
       "    <tr style=\"text-align: right;\">\n",
       "      <th></th>\n",
       "      <th>High</th>\n",
       "      <th>Low</th>\n",
       "      <th>Open</th>\n",
       "      <th>Close</th>\n",
       "      <th>Volume</th>\n",
       "      <th>Adj Close</th>\n",
       "      <th>rate_return</th>\n",
       "    </tr>\n",
       "    <tr>\n",
       "      <th>Date</th>\n",
       "      <th></th>\n",
       "      <th></th>\n",
       "      <th></th>\n",
       "      <th></th>\n",
       "      <th></th>\n",
       "      <th></th>\n",
       "      <th></th>\n",
       "    </tr>\n",
       "  </thead>\n",
       "  <tbody>\n",
       "    <tr>\n",
       "      <th>2019-01-02</th>\n",
       "      <td>39400.0</td>\n",
       "      <td>38550.0</td>\n",
       "      <td>39400.0</td>\n",
       "      <td>38750.0</td>\n",
       "      <td>7847664.0</td>\n",
       "      <td>36882.367188</td>\n",
       "      <td>NaN</td>\n",
       "    </tr>\n",
       "    <tr>\n",
       "      <th>2019-01-03</th>\n",
       "      <td>38550.0</td>\n",
       "      <td>37450.0</td>\n",
       "      <td>38300.0</td>\n",
       "      <td>37600.0</td>\n",
       "      <td>12471493.0</td>\n",
       "      <td>35787.796875</td>\n",
       "      <td>-2.9677</td>\n",
       "    </tr>\n",
       "    <tr>\n",
       "      <th>2019-01-04</th>\n",
       "      <td>37600.0</td>\n",
       "      <td>36850.0</td>\n",
       "      <td>37450.0</td>\n",
       "      <td>37450.0</td>\n",
       "      <td>14108958.0</td>\n",
       "      <td>35645.027344</td>\n",
       "      <td>-0.3989</td>\n",
       "    </tr>\n",
       "    <tr>\n",
       "      <th>2019-01-07</th>\n",
       "      <td>38900.0</td>\n",
       "      <td>37800.0</td>\n",
       "      <td>38000.0</td>\n",
       "      <td>38750.0</td>\n",
       "      <td>12748997.0</td>\n",
       "      <td>36882.367188</td>\n",
       "      <td>3.4713</td>\n",
       "    </tr>\n",
       "    <tr>\n",
       "      <th>2019-01-08</th>\n",
       "      <td>39200.0</td>\n",
       "      <td>37950.0</td>\n",
       "      <td>38000.0</td>\n",
       "      <td>38100.0</td>\n",
       "      <td>12756554.0</td>\n",
       "      <td>36263.699219</td>\n",
       "      <td>-1.6774</td>\n",
       "    </tr>\n",
       "  </tbody>\n",
       "</table>\n",
       "</div>"
      ],
      "text/plain": [
       "               High      Low     Open    Close      Volume     Adj Close  \\\n",
       "Date                                                                       \n",
       "2019-01-02  39400.0  38550.0  39400.0  38750.0   7847664.0  36882.367188   \n",
       "2019-01-03  38550.0  37450.0  38300.0  37600.0  12471493.0  35787.796875   \n",
       "2019-01-04  37600.0  36850.0  37450.0  37450.0  14108958.0  35645.027344   \n",
       "2019-01-07  38900.0  37800.0  38000.0  38750.0  12748997.0  36882.367188   \n",
       "2019-01-08  39200.0  37950.0  38000.0  38100.0  12756554.0  36263.699219   \n",
       "\n",
       "            rate_return  \n",
       "Date                     \n",
       "2019-01-02          NaN  \n",
       "2019-01-03      -2.9677  \n",
       "2019-01-04      -0.3989  \n",
       "2019-01-07       3.4713  \n",
       "2019-01-08      -1.6774  "
      ]
     },
     "execution_count": 40,
     "metadata": {},
     "output_type": "execute_result"
    }
   ],
   "source": [
    "df.head()"
   ]
  },
  {
   "cell_type": "code",
   "execution_count": 41,
   "metadata": {},
   "outputs": [
    {
     "data": {
      "text/html": [
       "<div>\n",
       "<style scoped>\n",
       "    .dataframe tbody tr th:only-of-type {\n",
       "        vertical-align: middle;\n",
       "    }\n",
       "\n",
       "    .dataframe tbody tr th {\n",
       "        vertical-align: top;\n",
       "    }\n",
       "\n",
       "    .dataframe thead th {\n",
       "        text-align: right;\n",
       "    }\n",
       "</style>\n",
       "<table border=\"1\" class=\"dataframe\">\n",
       "  <thead>\n",
       "    <tr style=\"text-align: right;\">\n",
       "      <th></th>\n",
       "      <th>High</th>\n",
       "      <th>Low</th>\n",
       "      <th>Open</th>\n",
       "      <th>Close</th>\n",
       "      <th>Volume</th>\n",
       "      <th>Adj Close</th>\n",
       "      <th>rate_return</th>\n",
       "      <th>rate_return_with_log</th>\n",
       "    </tr>\n",
       "    <tr>\n",
       "      <th>Date</th>\n",
       "      <th></th>\n",
       "      <th></th>\n",
       "      <th></th>\n",
       "      <th></th>\n",
       "      <th></th>\n",
       "      <th></th>\n",
       "      <th></th>\n",
       "      <th></th>\n",
       "    </tr>\n",
       "  </thead>\n",
       "  <tbody>\n",
       "    <tr>\n",
       "      <th>2019-01-02</th>\n",
       "      <td>39400.0</td>\n",
       "      <td>38550.0</td>\n",
       "      <td>39400.0</td>\n",
       "      <td>38750.0</td>\n",
       "      <td>7847664.0</td>\n",
       "      <td>36882.367188</td>\n",
       "      <td>NaN</td>\n",
       "      <td>NaN</td>\n",
       "    </tr>\n",
       "    <tr>\n",
       "      <th>2019-01-03</th>\n",
       "      <td>38550.0</td>\n",
       "      <td>37450.0</td>\n",
       "      <td>38300.0</td>\n",
       "      <td>37600.0</td>\n",
       "      <td>12471493.0</td>\n",
       "      <td>35787.796875</td>\n",
       "      <td>-2.9677</td>\n",
       "      <td>-3.0127</td>\n",
       "    </tr>\n",
       "    <tr>\n",
       "      <th>2019-01-04</th>\n",
       "      <td>37600.0</td>\n",
       "      <td>36850.0</td>\n",
       "      <td>37450.0</td>\n",
       "      <td>37450.0</td>\n",
       "      <td>14108958.0</td>\n",
       "      <td>35645.027344</td>\n",
       "      <td>-0.3989</td>\n",
       "      <td>-0.3997</td>\n",
       "    </tr>\n",
       "    <tr>\n",
       "      <th>2019-01-07</th>\n",
       "      <td>38900.0</td>\n",
       "      <td>37800.0</td>\n",
       "      <td>38000.0</td>\n",
       "      <td>38750.0</td>\n",
       "      <td>12748997.0</td>\n",
       "      <td>36882.367188</td>\n",
       "      <td>3.4713</td>\n",
       "      <td>3.4124</td>\n",
       "    </tr>\n",
       "    <tr>\n",
       "      <th>2019-01-08</th>\n",
       "      <td>39200.0</td>\n",
       "      <td>37950.0</td>\n",
       "      <td>38000.0</td>\n",
       "      <td>38100.0</td>\n",
       "      <td>12756554.0</td>\n",
       "      <td>36263.699219</td>\n",
       "      <td>-1.6774</td>\n",
       "      <td>-1.6916</td>\n",
       "    </tr>\n",
       "  </tbody>\n",
       "</table>\n",
       "</div>"
      ],
      "text/plain": [
       "               High      Low     Open    Close      Volume     Adj Close  \\\n",
       "Date                                                                       \n",
       "2019-01-02  39400.0  38550.0  39400.0  38750.0   7847664.0  36882.367188   \n",
       "2019-01-03  38550.0  37450.0  38300.0  37600.0  12471493.0  35787.796875   \n",
       "2019-01-04  37600.0  36850.0  37450.0  37450.0  14108958.0  35645.027344   \n",
       "2019-01-07  38900.0  37800.0  38000.0  38750.0  12748997.0  36882.367188   \n",
       "2019-01-08  39200.0  37950.0  38000.0  38100.0  12756554.0  36263.699219   \n",
       "\n",
       "            rate_return  rate_return_with_log  \n",
       "Date                                           \n",
       "2019-01-02          NaN                   NaN  \n",
       "2019-01-03      -2.9677               -3.0127  \n",
       "2019-01-04      -0.3989               -0.3997  \n",
       "2019-01-07       3.4713                3.4124  \n",
       "2019-01-08      -1.6774               -1.6916  "
      ]
     },
     "execution_count": 41,
     "metadata": {},
     "output_type": "execute_result"
    }
   ],
   "source": [
    "zerosv2 =np.zeros(493)\n",
    "zerosv2[0] = 'NaN'\n",
    "\n",
    "for i in range(1, 493):\n",
    "    zerosv2[i] = round((math.log(df['Close'][i]) - math.log(df['Close'][i-1])) * 100, 4)\n",
    "\n",
    "df['rate_return_with_log'] = zerosv2\n",
    "df.head()"
   ]
  },
  {
   "cell_type": "code",
   "execution_count": 42,
   "metadata": {},
   "outputs": [
    {
     "data": {
      "text/plain": [
       "<AxesSubplot:xlabel='Date'>"
      ]
     },
     "execution_count": 42,
     "metadata": {},
     "output_type": "execute_result"
    },
    {
     "data": {
      "image/png": "[encoded data removed]",
      "text/plain": [
       "<Figure size 432x288 with 1 Axes>"
      ]
     },
     "metadata": {
      "needs_background": "light"
     },
     "output_type": "display_data"
    }
   ],
   "source": [
    "df['rate_return'].plot() # df['rate_return_with_log'].plot()"
   ]
  },
  {
   "cell_type": "code",
   "execution_count": 43,
   "metadata": {},
   "outputs": [
    {
     "data": {
      "text/plain": [
       "count    492.000000\n",
       "mean       0.166243\n",
       "std        1.810335\n",
       "min       -6.387700\n",
       "25%       -0.911675\n",
       "50%        0.160600\n",
       "75%        1.160675\n",
       "max       10.470600\n",
       "Name: rate_return, dtype: float64"
      ]
     },
     "execution_count": 43,
     "metadata": {},
     "output_type": "execute_result"
    }
   ],
   "source": [
    "df['rate_return'].describe()"
   ]
  },
  {
   "cell_type": "code",
   "execution_count": 44,
   "metadata": {},
   "outputs": [
    {
     "data": {
      "text/plain": [
       "27"
      ]
     },
     "execution_count": 44,
     "metadata": {},
     "output_type": "execute_result"
    }
   ],
   "source": [
    "# 수익률이 0인 행 필터링하기 -> Take log 불가\n",
    "is_zero = df['rate_return'] == 0.0\n",
    "df_rate_return_zero = df[is_zero]\n",
    "len(df_rate_return_zero)"
   ]
  },
  {
   "cell_type": "markdown",
   "metadata": {},
   "source": [
    "## 3. 계산된 수익률을 이용해 복원추출하기"
   ]
  },
  {
   "cell_type": "code",
   "execution_count": 45,
   "metadata": {},
   "outputs": [],
   "source": [
    "import numpy as np\n",
    "import pandas as pd"
   ]
  },
  {
   "cell_type": "code",
   "execution_count": 46,
   "metadata": {},
   "outputs": [
    {
     "data": {
      "text/plain": [
       "DatetimeIndex(['2019-01-02', '2019-01-03', '2019-01-04', '2019-01-07',\n",
       "               '2019-01-08', '2019-01-09', '2019-01-10', '2019-01-11',\n",
       "               '2019-01-14', '2019-01-15',\n",
       "               ...\n",
       "               '2020-12-16', '2020-12-17', '2020-12-18', '2020-12-21',\n",
       "               '2020-12-22', '2020-12-23', '2020-12-24', '2020-12-28',\n",
       "               '2020-12-29', '2020-12-30'],\n",
       "              dtype='datetime64[ns]', name='Date', length=493, freq=None)"
      ]
     },
     "execution_count": 46,
     "metadata": {},
     "output_type": "execute_result"
    }
   ],
   "source": [
    "df.index"
   ]
  },
  {
   "cell_type": "code",
   "execution_count": 47,
   "metadata": {},
   "outputs": [],
   "source": [
    "# df에서 DatetimeIndex 추출\n",
    "# data_time = list(np.array(range(493))) # 리스트로 자료형 변환(orginal: datetime64[ns])\n",
    "\n",
    "# for i in range(493):\n",
    "    # data_time[i] = df.index[i]\n",
    "\n",
    "# index도 자료형 변환 가능\n",
    "# df.index.astype(str)"
   ]
  },
  {
   "cell_type": "code",
   "execution_count": 56,
   "metadata": {},
   "outputs": [
    {
     "name": "stdout",
     "output_type": "stream",
     "text": [
      "count    493.000000\n",
      "mean       0.096521\n",
      "std        1.693022\n",
      "min       -6.387700\n",
      "25%       -0.992100\n",
      "50%        0.110400\n",
      "75%        1.138500\n",
      "max        5.704300\n",
      "Name: rate_return, dtype: float64\n",
      "AxesSubplot(0.125,0.2;0.775x0.68)\n"
     ]
    },
    {
     "data": {
      "image/png": "[encoded data removed]",
      "text/plain": [
       "<Figure size 432x288 with 1 Axes>"
      ]
     },
     "metadata": {
      "needs_background": "light"
     },
     "output_type": "display_data"
    }
   ],
   "source": [
    "# random_sampling = np.random.choice(df['rate_return'], 493, replace=True )\n",
    "# sample = pd.DataFrame(random_sampling, columns = ['s1'], index = data_time)\n",
    "# sample.plot()\n",
    "\n",
    "# 위와 같은 방법으로 하면 안 됨\n",
    "print(df['rate_return'].sample(493, replace=True).describe())\n",
    "print(df['rate_return'].sample(493, replace=True).plot())"
   ]
  },
  {
   "cell_type": "markdown",
   "metadata": {},
   "source": [
    "## 4. Bootstrapping 시작 후, 1년 후의 수익률 계산해보기"
   ]
  },
  {
   "cell_type": "code",
   "execution_count": 7,
   "metadata": {},
   "outputs": [],
   "source": [
    "import pandas as pd\n",
    "import pandas_datareader as pdr\n",
    "import numpy as np\n",
    "import scipy as sp\n",
    "import matplotlib as mpl\n",
    "import matplotlib.pyplot as plt\n",
    "%matplotlib inline\n",
    "\n",
    "from datetime import datetime"
   ]
  },
  {
   "cell_type": "code",
   "execution_count": 92,
   "metadata": {},
   "outputs": [
    {
     "name": "stdout",
     "output_type": "stream",
     "text": [
      "Collecting package metadata (current_repodata.json): ...working... done\n",
      "Solving environment: ...working... failed with initial frozen solve. Retrying with flexible solve.\n",
      "Collecting package metadata (repodata.json): ...working... done\n",
      "Solving environment: ...working... failed with initial frozen solve. Retrying with flexible solve.\n",
      "\n",
      "Note: you may need to restart the kernel to use updated packages.\n"
     ]
    },
    {
     "name": "stderr",
     "output_type": "stream",
     "text": [
      "\n",
      "PackagesNotFoundError: The following packages are not available from current channels:\n",
      "\n",
      "  - sp.stats\n",
      "\n",
      "Current channels:\n",
      "\n",
      "  - https://repo.anaconda.com/pkgs/main/win-64\n",
      "  - https://repo.anaconda.com/pkgs/main/noarch\n",
      "  - https://repo.anaconda.com/pkgs/r/win-64\n",
      "  - https://repo.anaconda.com/pkgs/r/noarch\n",
      "  - https://repo.anaconda.com/pkgs/msys2/win-64\n",
      "  - https://repo.anaconda.com/pkgs/msys2/noarch\n",
      "\n",
      "To search for alternate channels that may provide the conda package you're\n",
      "looking for, navigate to\n",
      "\n",
      "    https://anaconda.org\n",
      "\n",
      "and use the search bar at the top of the page.\n",
      "\n",
      "\n"
     ]
    }
   ],
   "source": [
    "conda install sp.stats"
   ]
  },
  {
   "cell_type": "code",
   "execution_count": null,
   "metadata": {},
   "outputs": [],
   "source": [
    "# https://www.youtube.com/watch?v=8zo3C8H2AuQ"
   ]
  },
  {
   "cell_type": "code",
   "execution_count": 8,
   "metadata": {},
   "outputs": [
    {
     "data": {
      "text/html": [
       "<div>\n",
       "<style scoped>\n",
       "    .dataframe tbody tr th:only-of-type {\n",
       "        vertical-align: middle;\n",
       "    }\n",
       "\n",
       "    .dataframe tbody tr th {\n",
       "        vertical-align: top;\n",
       "    }\n",
       "\n",
       "    .dataframe thead th {\n",
       "        text-align: right;\n",
       "    }\n",
       "</style>\n",
       "<table border=\"1\" class=\"dataframe\">\n",
       "  <thead>\n",
       "    <tr style=\"text-align: right;\">\n",
       "      <th></th>\n",
       "      <th>High</th>\n",
       "      <th>Low</th>\n",
       "      <th>Open</th>\n",
       "      <th>Close</th>\n",
       "      <th>Volume</th>\n",
       "      <th>Adj Close</th>\n",
       "    </tr>\n",
       "    <tr>\n",
       "      <th>Date</th>\n",
       "      <th></th>\n",
       "      <th></th>\n",
       "      <th></th>\n",
       "      <th></th>\n",
       "      <th></th>\n",
       "      <th></th>\n",
       "    </tr>\n",
       "  </thead>\n",
       "  <tbody>\n",
       "    <tr>\n",
       "      <th>2019-01-02</th>\n",
       "      <td>39400.0</td>\n",
       "      <td>38550.0</td>\n",
       "      <td>39400.0</td>\n",
       "      <td>38750.0</td>\n",
       "      <td>7847664.0</td>\n",
       "      <td>36882.367188</td>\n",
       "    </tr>\n",
       "    <tr>\n",
       "      <th>2019-01-03</th>\n",
       "      <td>38550.0</td>\n",
       "      <td>37450.0</td>\n",
       "      <td>38300.0</td>\n",
       "      <td>37600.0</td>\n",
       "      <td>12471493.0</td>\n",
       "      <td>35787.796875</td>\n",
       "    </tr>\n",
       "    <tr>\n",
       "      <th>2019-01-04</th>\n",
       "      <td>37600.0</td>\n",
       "      <td>36850.0</td>\n",
       "      <td>37450.0</td>\n",
       "      <td>37450.0</td>\n",
       "      <td>14108958.0</td>\n",
       "      <td>35645.027344</td>\n",
       "    </tr>\n",
       "    <tr>\n",
       "      <th>2019-01-07</th>\n",
       "      <td>38900.0</td>\n",
       "      <td>37800.0</td>\n",
       "      <td>38000.0</td>\n",
       "      <td>38750.0</td>\n",
       "      <td>12748997.0</td>\n",
       "      <td>36882.367188</td>\n",
       "    </tr>\n",
       "    <tr>\n",
       "      <th>2019-01-08</th>\n",
       "      <td>39200.0</td>\n",
       "      <td>37950.0</td>\n",
       "      <td>38000.0</td>\n",
       "      <td>38100.0</td>\n",
       "      <td>12756554.0</td>\n",
       "      <td>36263.699219</td>\n",
       "    </tr>\n",
       "  </tbody>\n",
       "</table>\n",
       "</div>"
      ],
      "text/plain": [
       "               High      Low     Open    Close      Volume     Adj Close\n",
       "Date                                                                    \n",
       "2019-01-02  39400.0  38550.0  39400.0  38750.0   7847664.0  36882.367188\n",
       "2019-01-03  38550.0  37450.0  38300.0  37600.0  12471493.0  35787.796875\n",
       "2019-01-04  37600.0  36850.0  37450.0  37450.0  14108958.0  35645.027344\n",
       "2019-01-07  38900.0  37800.0  38000.0  38750.0  12748997.0  36882.367188\n",
       "2019-01-08  39200.0  37950.0  38000.0  38100.0  12756554.0  36263.699219"
      ]
     },
     "execution_count": 8,
     "metadata": {},
     "output_type": "execute_result"
    }
   ],
   "source": [
    "start = datetime(2019, 1, 2) \n",
    "end = datetime(2020, 12, 30)\n",
    "\n",
    "df1 = pdr.DataReader('005930.KS', 'yahoo', start, end) \n",
    "df1.head()"
   ]
  },
  {
   "cell_type": "code",
   "execution_count": 9,
   "metadata": {},
   "outputs": [
    {
     "data": {
      "text/html": [
       "<div>\n",
       "<style scoped>\n",
       "    .dataframe tbody tr th:only-of-type {\n",
       "        vertical-align: middle;\n",
       "    }\n",
       "\n",
       "    .dataframe tbody tr th {\n",
       "        vertical-align: top;\n",
       "    }\n",
       "\n",
       "    .dataframe thead th {\n",
       "        text-align: right;\n",
       "    }\n",
       "</style>\n",
       "<table border=\"1\" class=\"dataframe\">\n",
       "  <thead>\n",
       "    <tr style=\"text-align: right;\">\n",
       "      <th></th>\n",
       "      <th>meanClose</th>\n",
       "    </tr>\n",
       "  </thead>\n",
       "  <tbody>\n",
       "    <tr>\n",
       "      <th>0</th>\n",
       "      <td>51338.945233</td>\n",
       "    </tr>\n",
       "    <tr>\n",
       "      <th>1</th>\n",
       "      <td>51786.004057</td>\n",
       "    </tr>\n",
       "    <tr>\n",
       "      <th>2</th>\n",
       "      <td>52233.265720</td>\n",
       "    </tr>\n",
       "    <tr>\n",
       "      <th>3</th>\n",
       "      <td>52111.156187</td>\n",
       "    </tr>\n",
       "    <tr>\n",
       "      <th>4</th>\n",
       "      <td>51801.825558</td>\n",
       "    </tr>\n",
       "    <tr>\n",
       "      <th>...</th>\n",
       "      <td>...</td>\n",
       "    </tr>\n",
       "    <tr>\n",
       "      <th>995</th>\n",
       "      <td>52068.052738</td>\n",
       "    </tr>\n",
       "    <tr>\n",
       "      <th>996</th>\n",
       "      <td>51885.598377</td>\n",
       "    </tr>\n",
       "    <tr>\n",
       "      <th>997</th>\n",
       "      <td>51758.620690</td>\n",
       "    </tr>\n",
       "    <tr>\n",
       "      <th>998</th>\n",
       "      <td>51166.430020</td>\n",
       "    </tr>\n",
       "    <tr>\n",
       "      <th>999</th>\n",
       "      <td>52104.868154</td>\n",
       "    </tr>\n",
       "  </tbody>\n",
       "</table>\n",
       "<p>1000 rows × 1 columns</p>\n",
       "</div>"
      ],
      "text/plain": [
       "        meanClose\n",
       "0    51338.945233\n",
       "1    51786.004057\n",
       "2    52233.265720\n",
       "3    52111.156187\n",
       "4    51801.825558\n",
       "..            ...\n",
       "995  52068.052738\n",
       "996  51885.598377\n",
       "997  51758.620690\n",
       "998  51166.430020\n",
       "999  52104.868154\n",
       "\n",
       "[1000 rows x 1 columns]"
      ]
     },
     "execution_count": 9,
     "metadata": {},
     "output_type": "execute_result"
    }
   ],
   "source": [
    "bootstrap = pd.DataFrame({'meanClose':[df1['Close'].sample(493, replace=True).mean() for i in range(1000)]})\n",
    "bootstrap"
   ]
  },
  {
   "cell_type": "code",
   "execution_count": 78,
   "metadata": {},
   "outputs": [
    {
     "data": {
      "text/plain": [
       "<matplotlib.lines.Line2D at 0x29c757668e0>"
      ]
     },
     "execution_count": 78,
     "metadata": {},
     "output_type": "execute_result"
    },
    {
     "data": {
      "image/png": "[encoded data removed]",
      "text/plain": [
       "<Figure size 432x288 with 1 Axes>"
      ]
     },
     "metadata": {
      "needs_background": "light"
     },
     "output_type": "display_data"
    }
   ],
   "source": [
    "bootstrap.meanClose.hist(histtype='step')\n",
    "plt.axvline(df1.Close.mean(), color='r')"
   ]
  },
  {
   "cell_type": "code",
   "execution_count": 79,
   "metadata": {},
   "outputs": [
    {
     "data": {
      "text/plain": [
       "(51164.761663286, 52582.98174442191)"
      ]
     },
     "execution_count": 79,
     "metadata": {},
     "output_type": "execute_result"
    }
   ],
   "source": [
    "bootstrap.meanClose.quantile(0.025), bootstrap.meanClose.quantile(0.975),# 95% confidenc interval\n"
   ]
  },
  {
   "cell_type": "code",
   "execution_count": 3,
   "metadata": {},
   "outputs": [
    {
     "ename": "AttributeError",
     "evalue": "module 'scipy' has no attribute 'stats'",
     "output_type": "error",
     "traceback": [
      "\u001b[1;31m---------------------------------------------------------------------------\u001b[0m",
      "\u001b[1;31mAttributeError\u001b[0m                            Traceback (most recent call last)",
      "\u001b[1;32m<ipython-input-3-ae4926bb6d3d>\u001b[0m in \u001b[0;36m<module>\u001b[1;34m\u001b[0m\n\u001b[1;32m----> 1\u001b[1;33m \u001b[0msp\u001b[0m\u001b[1;33m.\u001b[0m\u001b[0mstats\u001b[0m\u001b[1;33m\u001b[0m\u001b[1;33m\u001b[0m\u001b[0m\n\u001b[0m",
      "\u001b[1;31mAttributeError\u001b[0m: module 'scipy' has no attribute 'stats'"
     ]
    }
   ],
   "source": []
  },
  {
   "cell_type": "code",
   "execution_count": 10,
   "metadata": {},
   "outputs": [
    {
     "data": {
      "text/plain": [
       "81000.0"
      ]
     },
     "execution_count": 10,
     "metadata": {},
     "output_type": "execute_result"
    }
   ],
   "source": [
    "df1['Close'][-1]"
   ]
  },
  {
   "cell_type": "code",
   "execution_count": 12,
   "metadata": {},
   "outputs": [
    {
     "data": {
      "text/html": [
       "<div>\n",
       "<style scoped>\n",
       "    .dataframe tbody tr th:only-of-type {\n",
       "        vertical-align: middle;\n",
       "    }\n",
       "\n",
       "    .dataframe tbody tr th {\n",
       "        vertical-align: top;\n",
       "    }\n",
       "\n",
       "    .dataframe thead th {\n",
       "        text-align: right;\n",
       "    }\n",
       "</style>\n",
       "<table border=\"1\" class=\"dataframe\">\n",
       "  <thead>\n",
       "    <tr style=\"text-align: right;\">\n",
       "      <th></th>\n",
       "      <th>High</th>\n",
       "      <th>Low</th>\n",
       "      <th>Open</th>\n",
       "      <th>Close</th>\n",
       "      <th>Volume</th>\n",
       "      <th>Adj Close</th>\n",
       "    </tr>\n",
       "    <tr>\n",
       "      <th>Date</th>\n",
       "      <th></th>\n",
       "      <th></th>\n",
       "      <th></th>\n",
       "      <th></th>\n",
       "      <th></th>\n",
       "      <th></th>\n",
       "    </tr>\n",
       "  </thead>\n",
       "  <tbody>\n",
       "    <tr>\n",
       "      <th>2020-12-23</th>\n",
       "      <td>74000.0</td>\n",
       "      <td>72300.0</td>\n",
       "      <td>72400.0</td>\n",
       "      <td>73900.0</td>\n",
       "      <td>19411326.0</td>\n",
       "      <td>73900.0</td>\n",
       "    </tr>\n",
       "    <tr>\n",
       "      <th>2020-12-24</th>\n",
       "      <td>78800.0</td>\n",
       "      <td>74000.0</td>\n",
       "      <td>74100.0</td>\n",
       "      <td>77800.0</td>\n",
       "      <td>32502870.0</td>\n",
       "      <td>77800.0</td>\n",
       "    </tr>\n",
       "    <tr>\n",
       "      <th>2020-12-28</th>\n",
       "      <td>80100.0</td>\n",
       "      <td>78200.0</td>\n",
       "      <td>79000.0</td>\n",
       "      <td>78700.0</td>\n",
       "      <td>40085044.0</td>\n",
       "      <td>78700.0</td>\n",
       "    </tr>\n",
       "    <tr>\n",
       "      <th>2020-12-29</th>\n",
       "      <td>78900.0</td>\n",
       "      <td>77300.0</td>\n",
       "      <td>78800.0</td>\n",
       "      <td>78300.0</td>\n",
       "      <td>30339449.0</td>\n",
       "      <td>78300.0</td>\n",
       "    </tr>\n",
       "    <tr>\n",
       "      <th>2020-12-30</th>\n",
       "      <td>81300.0</td>\n",
       "      <td>77300.0</td>\n",
       "      <td>77400.0</td>\n",
       "      <td>81000.0</td>\n",
       "      <td>29417421.0</td>\n",
       "      <td>81000.0</td>\n",
       "    </tr>\n",
       "  </tbody>\n",
       "</table>\n",
       "</div>"
      ],
      "text/plain": [
       "               High      Low     Open    Close      Volume  Adj Close\n",
       "Date                                                                 \n",
       "2020-12-23  74000.0  72300.0  72400.0  73900.0  19411326.0    73900.0\n",
       "2020-12-24  78800.0  74000.0  74100.0  77800.0  32502870.0    77800.0\n",
       "2020-12-28  80100.0  78200.0  79000.0  78700.0  40085044.0    78700.0\n",
       "2020-12-29  78900.0  77300.0  78800.0  78300.0  30339449.0    78300.0\n",
       "2020-12-30  81300.0  77300.0  77400.0  81000.0  29417421.0    81000.0"
      ]
     },
     "execution_count": 12,
     "metadata": {},
     "output_type": "execute_result"
    }
   ],
   "source": [
    "df1.tail()"
   ]
  },
  {
   "cell_type": "code",
   "execution_count": null,
   "metadata": {},
   "outputs": [],
   "source": []
  }
 ],
 "metadata": {
  "kernelspec": {
   "display_name": "Python 3",
   "language": "python",
   "name": "python3"
  },
  "language_info": {
   "codemirror_mode": {
    "name": "ipython",
    "version": 3
   },
   "file_extension": ".py",
   "mimetype": "text/x-python",
   "name": "python",
   "nbconvert_exporter": "python",
   "pygments_lexer": "ipython3",
   "version": "3.8.5"
  }
 },
 "nbformat": 4,
 "nbformat_minor": 4
}
